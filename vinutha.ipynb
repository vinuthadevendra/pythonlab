{
 "cells": [
  {
   "cell_type": "markdown",
   "id": "a8968682",
   "metadata": {},
   "source": [
    "### Program 1"
   ]
  },
  {
   "cell_type": "code",
   "execution_count": null,
   "id": "0cafcd4a",
   "metadata": {},
   "outputs": [],
   "source": [
    "m1 = int(input(\"Enter marks for test1 : \"))\n",
    "m2 = int(input(\"Enter marks for test2 : \"))\n",
    "m3 = int(input(\"Enter marks for test3 : \"))\n",
    "if m1 <= m2 and m1 <= m3:\n",
    " avgMarks = (m2+m3)/2\n",
    "elif m2 <= m1 and m2 <= m3:\n",
    " avgMarks = (m1+m3)/2\n",
    "elif m3 <= m1 and m2 <= m2:\n",
    " avgMarks = (m1+m2)/2\n",
    "\n",
    "print(\"Average of best two test marks out of three test’s marks is\", avgMarks);"
   ]
  },
  {
   "cell_type": "markdown",
   "id": "43e1f545",
   "metadata": {},
   "source": [
    "### Program 1 B"
   ]
  },
  {
   "cell_type": "code",
   "execution_count": null,
   "id": "55a54817",
   "metadata": {},
   "outputs": [],
   "source": [
    "val = int(input(\"Enter a value : \"))\n",
    "str_val = str(val)\n",
    "if str_val == str_val[::-1]:\n",
    " print(\"Palindrome\")\n",
    "else:\n",
    " print(\"Not Palindrome\")\n",
    "\n",
    "for i in range(10):\n",
    " if str_val.count(str(i)) > 0:\n",
    " print(str(i),\"appears\", str_val.count(str(i)), \"times\");"
   ]
  },
  {
   "cell_type": "markdown",
   "id": "ed10f8a2",
   "metadata": {},
   "source": [
    "### Program 2 A"
   ]
  },
  {
   "cell_type": "code",
   "execution_count": null,
   "id": "3608cf0b",
   "metadata": {},
   "outputs": [],
   "source": [
    "def fn(n):\n",
    " if n == 1:\n",
    " return 0\n",
    " elif n == 2:\n",
    " return 1\n",
    " else:\n",
    " return fn(n-1) + fn(n-2)\n",
    "\n",
    "num = int(input(\"Enter a number : \"))\n",
    "if num > 0:\n",
    " print(\"fn(\", num, \") = \",fn(num) , sep =\"\")\n",
    "else:\n",
    " print(\"Error in input\")"
   ]
  },
  {
   "cell_type": "markdown",
   "id": "c32755f3",
   "metadata": {},
   "source": [
    "### Program 2 B"
   ]
  },
  {
   "cell_type": "code",
   "execution_count": null,
   "id": "c0c789d9",
   "metadata": {},
   "outputs": [],
   "source": [
    "def bin2Dec(val):\n",
    " rev=val[::-1]\n",
    " dec = 0\n",
    " i = 0\n",
    " for dig in rev:\n",
    " dec += int(dig) * 2**i\n",
    " i += 1\n",
    "\n",
    " return dec\n",
    "def oct2Hex(val):\n",
    " rev=val[::-1]\n",
    " dec = 0\n",
    " i = 0\n",
    " for dig in rev:\n",
    " dec += int(dig) * 8**i\n",
    " i += 1\n",
    " list=[]\n",
    " while dec != 0:\n",
    " list.append(dec%16)\n",
    " dec = dec // 16\n",
    "8\n",
    "\n",
    " nl=[]\n",
    " for elem in list[::-1]:\n",
    " if elem <= 9:\n",
    " nl.append(str(elem))\n",
    " else:\n",
    " nl.append(chr(ord('A') + (elem -10)))\n",
    " hex = \"\".join(nl)\n",
    "\n",
    " return hex\n",
    "num1 = input(\"Enter a binary number : \")\n",
    "print(bin2Dec(num1))\n",
    "num2 = input(\"Enter a octal number : \")\n",
    "print(oct2Hex(num2))"
   ]
  },
  {
   "cell_type": "markdown",
   "id": "17c71622",
   "metadata": {},
   "source": [
    "### Program 3 A"
   ]
  },
  {
   "cell_type": "code",
   "execution_count": null,
   "id": "580e1086",
   "metadata": {},
   "outputs": [],
   "source": [
    "sentence = input(\"Enter a sentence : \")\n",
    "wordList = sentence.split(\" \")\n",
    "print(\"This sentence has\", len(wordList), \"words\")\n",
    "digCnt = upCnt = loCnt = 0\n",
    "for ch in sentence:\n",
    " if '0' <= ch <= '9':\n",
    " digCnt += 1\n",
    " elif 'A' <= ch <= 'Z':\n",
    " upCnt += 1\n",
    " elif 'a' <= ch <= 'z':\n",
    " loCnt += 1\n",
    "print(\"This sentence has\", digCnt, \"digits\", upCnt, \"upper case letters\", loCnt,\n",
    "\"lower case letters\")"
   ]
  },
  {
   "cell_type": "markdown",
   "id": "15f52e89",
   "metadata": {},
   "source": [
    "### Program 3 B"
   ]
  },
  {
   "cell_type": "code",
   "execution_count": null,
   "id": "b778a938",
   "metadata": {},
   "outputs": [],
   "source": [
    "str1 = input(\"Enter String 1 \\n\")\n",
    "str2 = input(\"Enter String 2 \\n\")\n",
    "if len(str2) < len(str1):\n",
    " short = len(str2)\n",
    " long = len(str1)\n",
    "else:\n",
    " short = len(str1)\n",
    " long = len(str2)\n",
    "\n",
    "matchCnt = 0\n",
    "for i in range(short):\n",
    " if str1[i] == str2[i]:\n",
    " matchCnt += 1\n",
    "print(\"Similarity between two said strings:\")\n",
    "print(matchCnt/long)\n"
   ]
  }
 ],
 "metadata": {
  "kernelspec": {
   "display_name": "Python 3 (ipykernel)",
   "language": "python",
   "name": "python3"
  },
  "language_info": {
   "codemirror_mode": {
    "name": "ipython",
    "version": 3
   },
   "file_extension": ".py",
   "mimetype": "text/x-python",
   "name": "python",
   "nbconvert_exporter": "python",
   "pygments_lexer": "ipython3",
   "version": "3.10.9"
  }
 },
 "nbformat": 4,
 "nbformat_minor": 5
}
